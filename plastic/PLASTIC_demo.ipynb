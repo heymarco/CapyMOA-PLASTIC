{
 "cells": [
  {
   "cell_type": "code",
   "execution_count": 1,
   "metadata": {},
   "outputs": [
    {
     "name": "stdout",
     "output_type": "stream",
     "text": [
      "capymoa_root: C:\\Users\\heyden\\Documents\\code\\CapyMOA\\src\\capymoa\n",
      "MOA jar path location (config.ini): C:\\Users\\heyden\\Documents\\code\\CapyMOA\\src\\capymoa\\jar\\moa.jar\n",
      "JVM Location (system): \n",
      "JAVA_HOME: C:\\Program Files (x86)\\Java\\jre-1.8\n",
      "JVM args: ['-Xmx8g', '-Xss10M']\n",
      "Sucessfully started the JVM and added MOA jar to the class path\n"
     ]
    }
   ],
   "source": [
    "from capymoa.evaluation import windowed_evaluation, prequential_evaluation, test_then_train_evaluation, prequential_evaluation_multiple_learners"
   ]
  },
  {
   "cell_type": "code",
   "execution_count": 20,
   "metadata": {
    "collapsed": false,
    "jupyter": {
     "outputs_hidden": false
    },
    "pycharm": {
     "name": "#%%\n"
    }
   },
   "outputs": [],
   "source": [
    "import os\n",
    "data_path = '../data/processed/SUSY/unshuffled/SUSY.arff'\n",
    "assert os.path.exists(data_path)"
   ]
  },
  {
   "cell_type": "code",
   "execution_count": 24,
   "metadata": {
    "collapsed": false,
    "jupyter": {
     "outputs_hidden": false
    },
    "pycharm": {
     "name": "#%%\n"
    }
   },
   "outputs": [
    {
     "name": "stdout",
     "output_type": "stream",
     "text": [
      "@relation SUSY\n",
      "\n",
      "@attribute lepton__1_pT numeric\n",
      "@attribute lepton__1_eta numeric\n",
      "@attribute lepton__1_phi numeric\n",
      "@attribute lepton__2_pT numeric\n",
      "@attribute lepton__2_eta numeric\n",
      "@attribute lepton__2_phi numeric\n",
      "@attribute missing_energy_magnitude numeric\n",
      "@attribute missing_energy_phi numeric\n",
      "@attribute MET_rel numeric\n",
      "@attribute axial_MET numeric\n",
      "@attribute M_R numeric\n",
      "@attribute M_TR_2 numeric\n",
      "@attribute R numeric\n",
      "@attribute MT2 numeric\n",
      "@attribute S_R numeric\n",
      "@attribute M_Delta_R numeric\n",
      "@attribute dPhi_r_b numeric\n",
      "@attribute cos(theta_r1) numeric\n",
      "@attribute class numeric\n",
      "\n",
      "@data\n",
      "\n"
     ]
    }
   ],
   "source": [
    "from capymoa.evaluation import ClassificationWindowedEvaluator\n",
    "from capymoa.stream import stream_from_file\n",
    "\n",
    "from capymoa.learner.classifier import CustomEFDT, HoeffdingTree, PLASTIC, EFDT\n",
    "\n",
    "from capymoa.learner.classifier import AdaptiveRandomForest\n",
    "\n",
    "stream = stream_from_file(path_to_csv_or_arff=data_path)\n",
    "\n",
    "plastic = PLASTIC(schema=stream.schema)\n",
    "custom_efdt = CustomEFDT(schema=stream.schema)\n",
    "original_efdt = EFDT(schema=stream.schema)\n",
    "ht = HoeffdingTree(schema=stream.schema)\n",
    "\n",
    "print(stream.moa_stream.getHeader())"
   ]
  },
  {
   "cell_type": "code",
   "execution_count": 12,
   "metadata": {
    "collapsed": false,
    "jupyter": {
     "outputs_hidden": false
    },
    "pycharm": {
     "name": "#%%\n"
    }
   },
   "outputs": [
    {
     "ename": "TypeError",
     "evalue": "object of type 'NoneType' has no len()",
     "output_type": "error",
     "traceback": [
      "\u001B[1;31m---------------------------------------------------------------------------\u001B[0m",
      "\u001B[1;31mTypeError\u001B[0m                                 Traceback (most recent call last)",
      "Cell \u001B[1;32mIn[12], line 11\u001B[0m\n\u001B[0;32m      3\u001B[0m \u001B[38;5;66;03m# Define the learners + an alias (dictionary key)\u001B[39;00m\n\u001B[0;32m      4\u001B[0m learners \u001B[38;5;241m=\u001B[39m {\n\u001B[0;32m      5\u001B[0m     \u001B[38;5;124m'\u001B[39m\u001B[38;5;124mHT\u001B[39m\u001B[38;5;124m'\u001B[39m: ht,\n\u001B[0;32m      6\u001B[0m     \u001B[38;5;66;03m# 'EFDT': original_efdt,\u001B[39;00m\n\u001B[0;32m      7\u001B[0m     \u001B[38;5;66;03m# 'Own EFDT': custom_efdt,\u001B[39;00m\n\u001B[0;32m      8\u001B[0m     \u001B[38;5;66;03m# 'PLASTIC': plastic,\u001B[39;00m\n\u001B[0;32m      9\u001B[0m }\n\u001B[1;32m---> 11\u001B[0m results \u001B[38;5;241m=\u001B[39m \u001B[43mprequential_evaluation_multiple_learners\u001B[49m\u001B[43m(\u001B[49m\u001B[43mstream\u001B[49m\u001B[43m,\u001B[49m\u001B[43m \u001B[49m\u001B[43mlearners\u001B[49m\u001B[43m)\u001B[49m\n\u001B[0;32m     13\u001B[0m stream\u001B[38;5;241m.\u001B[39mschema\n",
      "File \u001B[1;32m~\\Documents\\code\\CapyMOA\\src\\capymoa\\evaluation\\evaluation.py:1057\u001B[0m, in \u001B[0;36mprequential_evaluation_multiple_learners\u001B[1;34m(stream, learners, max_instances, window_size)\u001B[0m\n\u001B[0;32m   1053\u001B[0m \u001B[38;5;28;01mfor\u001B[39;00m learner_name, learner \u001B[38;5;129;01min\u001B[39;00m learners\u001B[38;5;241m.\u001B[39mitems():\n\u001B[0;32m   1054\u001B[0m     \u001B[38;5;66;03m# Predict for the current learner\u001B[39;00m\n\u001B[0;32m   1055\u001B[0m     prediction \u001B[38;5;241m=\u001B[39m learner\u001B[38;5;241m.\u001B[39mpredict(instance)\n\u001B[1;32m-> 1057\u001B[0m     \u001B[43mresults\u001B[49m\u001B[43m[\u001B[49m\u001B[43mlearner_name\u001B[49m\u001B[43m]\u001B[49m\u001B[43m[\u001B[49m\u001B[38;5;124;43m\"\u001B[39;49m\u001B[38;5;124;43mcumulative\u001B[39;49m\u001B[38;5;124;43m\"\u001B[39;49m\u001B[43m]\u001B[49m\u001B[38;5;241;43m.\u001B[39;49m\u001B[43mupdate\u001B[49m\u001B[43m(\u001B[49m\u001B[43minstance\u001B[49m\u001B[38;5;241;43m.\u001B[39;49m\u001B[43my\u001B[49m\u001B[43m(\u001B[49m\u001B[43m)\u001B[49m\u001B[43m,\u001B[49m\u001B[43m \u001B[49m\u001B[43mprediction\u001B[49m\u001B[43m)\u001B[49m\n\u001B[0;32m   1058\u001B[0m     \u001B[38;5;28;01mif\u001B[39;00m window_size \u001B[38;5;129;01mis\u001B[39;00m \u001B[38;5;129;01mnot\u001B[39;00m \u001B[38;5;28;01mNone\u001B[39;00m:\n\u001B[0;32m   1059\u001B[0m         results[learner_name][\u001B[38;5;124m\"\u001B[39m\u001B[38;5;124mwindowed\u001B[39m\u001B[38;5;124m\"\u001B[39m]\u001B[38;5;241m.\u001B[39mupdate(instance\u001B[38;5;241m.\u001B[39my(), prediction)\n",
      "File \u001B[1;32m~\\Documents\\code\\CapyMOA\\src\\capymoa\\evaluation\\evaluation.py:290\u001B[0m, in \u001B[0;36mRegressionEvaluator.update\u001B[1;34m(self, y, y_pred)\u001B[0m\n\u001B[0;32m    284\u001B[0m \u001B[38;5;66;03m# if y_pred is None, it indicates the learner did not produce a prediction for this instace\u001B[39;00m\n\u001B[0;32m    285\u001B[0m \u001B[38;5;28;01mif\u001B[39;00m y_pred \u001B[38;5;129;01mis\u001B[39;00m \u001B[38;5;28;01mNone\u001B[39;00m:\n\u001B[0;32m    286\u001B[0m     \u001B[38;5;66;03m# In classification it is rather easy to deal with this, but\u001B[39;00m\n\u001B[0;32m    287\u001B[0m \n\u001B[0;32m    288\u001B[0m     \u001B[38;5;66;03m# Create an intermediary array with indices excluding the y\u001B[39;00m\n\u001B[0;32m    289\u001B[0m     indexesWithoutY \u001B[38;5;241m=\u001B[39m [\n\u001B[1;32m--> 290\u001B[0m         i \u001B[38;5;28;01mfor\u001B[39;00m i \u001B[38;5;129;01min\u001B[39;00m \u001B[38;5;28mrange\u001B[39m(\u001B[38;5;28;43mlen\u001B[39;49m\u001B[43m(\u001B[49m\u001B[38;5;28;43mself\u001B[39;49m\u001B[38;5;241;43m.\u001B[39;49m\u001B[43mschema\u001B[49m\u001B[38;5;241;43m.\u001B[39;49m\u001B[43mget_label_indexes\u001B[49m\u001B[43m(\u001B[49m\u001B[43m)\u001B[49m\u001B[43m)\u001B[49m) \u001B[38;5;28;01mif\u001B[39;00m i \u001B[38;5;241m!=\u001B[39m y_index\n\u001B[0;32m    291\u001B[0m     ]\n\u001B[0;32m    292\u001B[0m     random_y_pred \u001B[38;5;241m=\u001B[39m random\u001B[38;5;241m.\u001B[39mchoice(indexesWithoutY)\n\u001B[0;32m    293\u001B[0m     y_pred_index \u001B[38;5;241m=\u001B[39m \u001B[38;5;28mself\u001B[39m\u001B[38;5;241m.\u001B[39mschema\u001B[38;5;241m.\u001B[39mget_label_indexes()[random_y_pred]\n",
      "\u001B[1;31mTypeError\u001B[0m: object of type 'NoneType' has no len()"
     ]
    }
   ],
   "source": [
    "from capymoa.evaluation.visualization import plot_windowed_results\n",
    "\n",
    "# Define the learners + an alias (dictionary key)\n",
    "learners = {\n",
    "    'HT': ht,\n",
    "    'EFDT': original_efdt,\n",
    "    'Own EFDT': custom_efdt,\n",
    "    'PLASTIC': plastic,\n",
    "}\n",
    "\n",
    "results = prequential_evaluation_multiple_learners(stream, learners)"
   ]
  },
  {
   "cell_type": "code",
   "execution_count": null,
   "metadata": {},
   "outputs": [],
   "source": [
    "for learner in learners:\n",
    "    print(f\"{learner} final accuracy = {results[learner]['cumulative'].accuracy()}\")\n",
    "\n",
    "plot_windowed_results(results['HT'], results['Own EFDT'], results['PLASTIC'], metric=\"classifications correct (percent)\")"
   ]
  },
  {
   "cell_type": "code",
   "execution_count": null,
   "metadata": {},
   "outputs": [],
   "source": []
  }
 ],
 "metadata": {
  "kernelspec": {
   "display_name": "Python 3 (ipykernel)",
   "language": "python",
   "name": "python3"
  },
  "language_info": {
   "codemirror_mode": {
    "name": "ipython",
    "version": 3
   },
   "file_extension": ".py",
   "mimetype": "text/x-python",
   "name": "python",
   "nbconvert_exporter": "python",
   "pygments_lexer": "ipython3",
   "version": "3.9.18"
  }
 },
 "nbformat": 4,
 "nbformat_minor": 4
}